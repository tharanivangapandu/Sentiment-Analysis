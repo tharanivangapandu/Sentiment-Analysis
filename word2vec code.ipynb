{
 "cells": [
  {
   "cell_type": "code",
   "execution_count": 1,
   "id": "3d0a781c",
   "metadata": {},
   "outputs": [],
   "source": [
    "from gensim.models import Word2Vec\n",
    "from gensim.utils import simple_preprocess\n"
   ]
  },
  {
   "cell_type": "code",
   "execution_count": 2,
   "id": "7095e2b6",
   "metadata": {},
   "outputs": [],
   "source": [
    "\n",
    "# Example sentences\n",
    "sentences = [\n",
    "    ['apple', 'is', 'a', 'fruit'],\n",
    "    ['apple', 'is', 'red', 'in', 'color'],\n",
    "    ['banana', 'is', 'a', 'fruit'],\n",
    "    ['banana', 'is', 'yellow', 'in', 'color'],\n",
    "    ['orange', 'is', 'a', 'fruit'],\n",
    "    ['orange', 'is', 'orange', 'in', 'color']\n",
    "]\n"
   ]
  },
  {
   "cell_type": "code",
   "execution_count": 3,
   "id": "a0a064ea",
   "metadata": {},
   "outputs": [],
   "source": [
    "# Preprocess the sentences\n",
    "preprocessed_sentences = [simple_preprocess(' '.join(sentence)) for sentence in sentences]"
   ]
  },
  {
   "cell_type": "code",
   "execution_count": 4,
   "id": "ff06411e",
   "metadata": {},
   "outputs": [],
   "source": [
    "# Train the Word2Vec model\n",
    "model = Word2Vec(sentences=preprocessed_sentences, vector_size=100, window=5, min_count=1, workers=4)"
   ]
  },
  {
   "cell_type": "code",
   "execution_count": 5,
   "id": "9363ccc5",
   "metadata": {},
   "outputs": [
    {
     "name": "stdout",
     "output_type": "stream",
     "text": [
      "Word vector for \"fruit\": [-0.00713902  0.00124103 -0.00717672 -0.00224462  0.0037193   0.00583312\n",
      "  0.00119818  0.00210273 -0.00411039  0.00722533 -0.00630704  0.00464722\n",
      " -0.00821997  0.00203647 -0.00497705 -0.00424769 -0.00310898  0.00565521\n",
      "  0.0057984  -0.00497465  0.00077333 -0.00849578  0.00780981  0.00925729\n",
      " -0.00274233  0.00080022  0.00074665  0.00547788 -0.00860608  0.00058446\n",
      "  0.00686942  0.00223159  0.00112468 -0.00932216  0.00848237 -0.00626413\n",
      " -0.00299237  0.00349379 -0.00077263  0.00141129  0.00178199 -0.0068289\n",
      " -0.00972481  0.00904058  0.00619805 -0.00691293  0.00340348  0.00020606\n",
      "  0.00475375 -0.00711994  0.00402695  0.00434743  0.00995737 -0.00447374\n",
      " -0.00138926 -0.00731732 -0.00969783 -0.00908026 -0.00102275 -0.00650329\n",
      "  0.00484973 -0.00616403  0.00251919  0.00073944 -0.00339215 -0.00097922\n",
      "  0.00997913  0.00914589 -0.00446183  0.00908303 -0.00564176  0.00593092\n",
      " -0.00309722  0.00343175  0.00301723  0.00690046 -0.00237388  0.00877504\n",
      "  0.00758943 -0.00954765 -0.00800821 -0.0076379   0.00292326 -0.00279472\n",
      " -0.00692952 -0.00812826  0.00830918  0.00199049 -0.00932802 -0.00479272\n",
      "  0.00313674 -0.00471321  0.00528084 -0.00423344  0.0026418  -0.00804569\n",
      "  0.00620989  0.00481889  0.00078719  0.00301345]\n"
     ]
    }
   ],
   "source": [
    "# Get the word vector for a specific word\n",
    "word_vector = model.wv['fruit']\n",
    "print(f'Word vector for \"fruit\": {word_vector}')\n"
   ]
  },
  {
   "cell_type": "code",
   "execution_count": 6,
   "id": "6be2f24b",
   "metadata": {},
   "outputs": [
    {
     "name": "stdout",
     "output_type": "stream",
     "text": [
      "Similar words to \"fruit\": [('color', 0.17018885910511017), ('banana', 0.13887980580329895), ('apple', 0.034764934331178665), ('orange', 0.004501019138842821), ('is', -0.02775035798549652), ('yellow', -0.028491012752056122), ('in', -0.04461711645126343), ('red', -0.06900332123041153)]\n"
     ]
    }
   ],
   "source": [
    "# Find similar words\n",
    "similar_words = model.wv.most_similar('fruit')\n",
    "print(f'Similar words to \"fruit\": {similar_words}')\n"
   ]
  },
  {
   "cell_type": "code",
   "execution_count": null,
   "id": "6403aef8",
   "metadata": {},
   "outputs": [],
   "source": []
  }
 ],
 "metadata": {
  "kernelspec": {
   "display_name": "Python 3 (ipykernel)",
   "language": "python",
   "name": "python3"
  },
  "language_info": {
   "codemirror_mode": {
    "name": "ipython",
    "version": 3
   },
   "file_extension": ".py",
   "mimetype": "text/x-python",
   "name": "python",
   "nbconvert_exporter": "python",
   "pygments_lexer": "ipython3",
   "version": "3.9.12"
  }
 },
 "nbformat": 4,
 "nbformat_minor": 5
}
